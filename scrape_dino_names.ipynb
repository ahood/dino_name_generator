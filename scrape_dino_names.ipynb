{
 "cells": [
  {
   "cell_type": "code",
   "execution_count": 1,
   "id": "26ccbc32",
   "metadata": {},
   "outputs": [],
   "source": [
    "import requests\n",
    "from bs4 import BeautifulSoup\n",
    "import pandas as pd\n",
    "import numpy as np"
   ]
  },
  {
   "cell_type": "code",
   "execution_count": 5,
   "id": "6b38ae59",
   "metadata": {},
   "outputs": [],
   "source": [
    "response = requests.get('https://en.wikipedia.org/wiki/List_of_dinosaur_genera')\n",
    "soup = BeautifulSoup(response.text)\n",
    "uls = soup.find_all('ul')\n",
    "links = [li.find('a') for ul in uls for li in ul.find_all('li')]\n",
    "dinos = [l.text.lower() for l in links[6:-109]]"
   ]
  },
  {
   "cell_type": "code",
   "execution_count": 6,
   "id": "dbacd033",
   "metadata": {},
   "outputs": [
    {
     "data": {
      "text/plain": [
       "['dinosaurs portal',\n",
       " 'dinosaur classification',\n",
       " 'list of birds',\n",
       " 'list of bird genera',\n",
       " 'list of dinosaur ichnogenera']"
      ]
     },
     "execution_count": 6,
     "metadata": {},
     "output_type": "execute_result"
    }
   ],
   "source": [
    "[d for d in dinos if ' ' in d]"
   ]
  },
  {
   "cell_type": "markdown",
   "id": "81df607b",
   "metadata": {},
   "source": [
    "Get rid of these."
   ]
  },
  {
   "cell_type": "code",
   "execution_count": 7,
   "id": "d1eb6398",
   "metadata": {},
   "outputs": [],
   "source": [
    "dinos = [d for d in dinos if ' ' not in d]"
   ]
  },
  {
   "cell_type": "markdown",
   "id": "8523bd42",
   "metadata": {},
   "source": [
    "Save."
   ]
  },
  {
   "cell_type": "code",
   "execution_count": 8,
   "id": "a1df282a",
   "metadata": {},
   "outputs": [],
   "source": [
    "with open('dino_names_scraped_from_wikipedia.txt','w') as f:\n",
    "    f.write('\\n'.join(dinos))"
   ]
  }
 ],
 "metadata": {
  "kernelspec": {
   "display_name": "Python 3 (ipykernel)",
   "language": "python",
   "name": "python3"
  },
  "language_info": {
   "codemirror_mode": {
    "name": "ipython",
    "version": 3
   },
   "file_extension": ".py",
   "mimetype": "text/x-python",
   "name": "python",
   "nbconvert_exporter": "python",
   "pygments_lexer": "ipython3",
   "version": "3.8.5"
  }
 },
 "nbformat": 4,
 "nbformat_minor": 5
}
