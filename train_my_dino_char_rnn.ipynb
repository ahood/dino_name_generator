{
 "cells": [
  {
   "cell_type": "markdown",
   "id": "f2036c5d",
   "metadata": {},
   "source": [
    "# Prepare training data"
   ]
  },
  {
   "cell_type": "code",
   "execution_count": 1,
   "id": "15141673",
   "metadata": {},
   "outputs": [],
   "source": [
    "with open('dino_names_scraped_from_wikipedia.txt') as f:\n",
    "    dinos = [d + '\\n' for d in f.read().split()] # adding newline as stop character"
   ]
  },
  {
   "cell_type": "markdown",
   "id": "18a0aef4",
   "metadata": {},
   "source": [
    "## Tokenize"
   ]
  },
  {
   "cell_type": "code",
   "execution_count": 2,
   "id": "17db3f7f",
   "metadata": {},
   "outputs": [],
   "source": [
    "from functools import reduce\n",
    "vocab = sorted(reduce(\n",
    "    lambda x,y: x.union(y),\n",
    "    [set(d) for d in dinos]))"
   ]
  },
  {
   "cell_type": "code",
   "execution_count": 3,
   "id": "3133736c",
   "metadata": {},
   "outputs": [
    {
     "name": "stdout",
     "output_type": "stream",
     "text": [
      "['\\n', 'a', 'b', 'c', 'd', 'e', 'f', 'g', 'h', 'i', 'j', 'k', 'l', 'm', 'n', 'o', 'p', 'q', 'r', 's', 't', 'u', 'v', 'w', 'x', 'y', 'z']\n"
     ]
    }
   ],
   "source": [
    "print(vocab)"
   ]
  },
  {
   "cell_type": "code",
   "execution_count": 4,
   "id": "1144a91e",
   "metadata": {},
   "outputs": [],
   "source": [
    "token_to_index = {v:k for k,v in enumerate(vocab)}\n",
    "index_to_token = {k:v for k,v in enumerate(vocab)}"
   ]
  },
  {
   "cell_type": "code",
   "execution_count": 5,
   "id": "7bf6f408",
   "metadata": {},
   "outputs": [],
   "source": [
    "dinos_tokenized = [[token_to_index[letter] for letter in dino] for dino in dinos]"
   ]
  },
  {
   "cell_type": "code",
   "execution_count": 6,
   "id": "35e2ebc8",
   "metadata": {},
   "outputs": [
    {
     "data": {
      "text/plain": [
       "[[1, 1, 3, 8, 5, 14, 15, 19, 1, 21, 18, 21, 19, 0],\n",
       " [1, 1, 18, 4, 15, 14, 25, 24, 0],\n",
       " [1, 2, 4, 1, 12, 12, 1, 8, 19, 1, 21, 18, 21, 19, 0],\n",
       " [1, 2, 4, 1, 18, 1, 9, 14, 21, 18, 21, 19, 0],\n",
       " [1, 2, 4, 9, 20, 15, 19, 1, 21, 18, 21, 19, 0]]"
      ]
     },
     "execution_count": 6,
     "metadata": {},
     "output_type": "execute_result"
    }
   ],
   "source": [
    "dinos_tokenized[:5]"
   ]
  },
  {
   "cell_type": "code",
   "execution_count": 7,
   "id": "99815ae0",
   "metadata": {},
   "outputs": [
    {
     "data": {
      "text/plain": [
       "['aachenosaurus\\n',\n",
       " 'aardonyx\\n',\n",
       " 'abdallahsaurus\\n',\n",
       " 'abdarainurus\\n',\n",
       " 'abditosaurus\\n']"
      ]
     },
     "execution_count": 7,
     "metadata": {},
     "output_type": "execute_result"
    }
   ],
   "source": [
    "dinos[:5]"
   ]
  },
  {
   "cell_type": "markdown",
   "id": "aec35af3",
   "metadata": {},
   "source": [
    "# Define model"
   ]
  },
  {
   "cell_type": "code",
   "execution_count": 8,
   "id": "f4d476ba",
   "metadata": {},
   "outputs": [],
   "source": [
    "# adapted from\n",
    "# https://pytorch.org/tutorials/intermediate/char_rnn_generation_tutorial.html?highlight=rnn\n",
    "# with insights from\n",
    "# https://towardsdatascience.com/character-level-language-model-1439f5dd87fe\n",
    "\n",
    "import torch\n",
    "import torch.nn as nn\n",
    "import numpy as np\n",
    "\n",
    "class RNN(nn.Module):\n",
    "    def __init__(self, input_size, hidden_size, output_size):\n",
    "        super(RNN, self).__init__()\n",
    "        self.hidden_size = hidden_size\n",
    "        \n",
    "        self.rnn = nn.RNN(len(vocab), hidden_size)\n",
    "        self.linear1 = nn.Linear(hidden_size, hidden_size)\n",
    "        self.linear2 = nn.Linear(hidden_size, output_size)\n",
    "        self.dropout = nn.Dropout(0.1)\n",
    "        # note we are going to output logits and use CrossEntropyLoss,\n",
    "        # so no need to define softmax here\n",
    "    \n",
    "    def forward(self, input, hidden):\n",
    "        # input is a single one-hot encoded token, in the form of a 2d\n",
    "        # array with first dimension 1 and second dimension the vocab size\n",
    "        hidden, _ = self.rnn(input, hidden) # the two outputs are equal the way we have things set up; not sure of different in general though\n",
    "        x = self.dropout(hidden)\n",
    "        x = self.linear1(x)\n",
    "        x = self.dropout(x)\n",
    "        logits = self.linear2(x)\n",
    "        return logits, hidden\n",
    "    \n",
    "    def initHidden(self):\n",
    "        return torch.zeros(1, 1, self.hidden_size)\n",
    "        \n",
    "# One-hot matrix of first to last letters (not including EOS) for input\n",
    "def inputTensor(dino):\n",
    "    # we make a 2x2 array where each row is the 1-hot encoding for\n",
    "    # each letter, ordered from top to bottom, then expand into \n",
    "    # the shape (name length, 1, vocab size) that pytorch is expecting\n",
    "    # note we are not including the stop character\n",
    "    onehot = np.zeros((len(dino)-1, len(vocab)))\n",
    "    for row, letter in enumerate(dino[:-1]):\n",
    "        col = token_to_index[letter]\n",
    "        onehot[row, col] = 1\n",
    "    return torch.from_numpy(np.expand_dims(onehot, axis=1)).float() # numpy default is float64 but torch wants float32\n",
    "\n",
    "# LongTensor of second letter to end (EOS) for target\n",
    "def targetTensor(dino):\n",
    "    # a 1-d tensor containing the class index of the next letter\n",
    "    return torch.LongTensor([token_to_index[letter] for letter in dino[1:]])"
   ]
  },
  {
   "cell_type": "markdown",
   "id": "2f2cf9f0",
   "metadata": {},
   "source": [
    "# Train model"
   ]
  },
  {
   "cell_type": "code",
   "execution_count": 9,
   "id": "06d824fe",
   "metadata": {},
   "outputs": [],
   "source": [
    "def training_loop_for_one_example(input_tensor, output_tensor):\n",
    "    \n",
    "    # initialize\n",
    "    hidden = rnn.initHidden()\n",
    "    opt.zero_grad()\n",
    "    example_loss = 0\n",
    "    \n",
    "    # loop through all letters, trying to predict next letter and summing losses\n",
    "    for ii in range(len(input_tensor)):\n",
    "        logits, hidden = rnn(input_tensor[[ii]], hidden)\n",
    "        letter_loss = lossfun(logits[0], target_tensor[[ii]])\n",
    "        example_loss += letter_loss\n",
    "        \n",
    "    # use loss on this training example to update parameters\n",
    "    example_loss.backward()\n",
    "    opt.step()\n",
    "    \n",
    "    # return loss so we can plot it\n",
    "    return example_loss.item()/len(input_tensor) # average over letter loss"
   ]
  },
  {
   "cell_type": "code",
   "execution_count": 10,
   "id": "072a7591",
   "metadata": {},
   "outputs": [
    {
     "name": "stdout",
     "output_type": "stream",
     "text": [
      "2022-03-27 17:42:43.069177 on 0/100000, loss: 3.2864879608154296\n",
      "2022-03-27 17:43:30.187142 on 5000/100000, loss: 3.3059139251708984\n",
      "2022-03-27 17:44:15.394189 on 10000/100000, loss: 2.0185726483662925\n",
      "2022-03-27 17:44:57.771506 on 15000/100000, loss: 2.4566009521484373\n",
      "2022-03-27 17:45:53.699294 on 20000/100000, loss: 2.794039249420166\n",
      "2022-03-27 17:46:39.495733 on 25000/100000, loss: 2.542125701904297\n",
      "2022-03-27 17:47:21.043097 on 30000/100000, loss: 4.736359066433376\n",
      "2022-03-27 17:48:06.177749 on 35000/100000, loss: 2.714818000793457\n",
      "2022-03-27 17:48:47.936303 on 40000/100000, loss: 1.4670014699300131\n",
      "2022-03-27 17:49:28.661677 on 45000/100000, loss: 3.0968720572335378\n",
      "2022-03-27 17:50:09.837284 on 50000/100000, loss: 1.9818528493245442\n",
      "2022-03-27 17:50:56.309785 on 55000/100000, loss: 2.347428798675537\n",
      "2022-03-27 17:51:42.485799 on 60000/100000, loss: 2.3667417006059126\n",
      "2022-03-27 17:52:38.623271 on 65000/100000, loss: 1.4492762565612793\n",
      "2022-03-27 17:53:46.861274 on 70000/100000, loss: 1.253841053355824\n",
      "2022-03-27 17:54:42.823462 on 75000/100000, loss: 3.033621978759766\n",
      "2022-03-27 17:55:40.156873 on 80000/100000, loss: 2.247672514481978\n",
      "2022-03-27 17:56:48.861618 on 85000/100000, loss: 2.6122989654541016\n",
      "2022-03-27 17:57:49.678878 on 90000/100000, loss: 1.9538613832913911\n",
      "2022-03-27 17:58:39.481028 on 95000/100000, loss: 3.501751218523298\n"
     ]
    }
   ],
   "source": [
    "# define model and some other tools\n",
    "rnn = RNN(len(vocab), 128, len(vocab))\n",
    "lossfun = nn.CrossEntropyLoss()\n",
    "opt = torch.optim.RMSprop(rnn.parameters())\n",
    "\n",
    "# now loop over the examples\n",
    "\n",
    "import random\n",
    "import datetime\n",
    "\n",
    "n_iters = 100000\n",
    "print_every = 5000\n",
    "plot_every = 500\n",
    "all_losses = []\n",
    "total_loss = 0 # Reset every plot_every iters\n",
    "\n",
    "for iter in range(n_iters):\n",
    "    random_dino = random.choice(dinos)\n",
    "    input_tensor = inputTensor(random_dino)\n",
    "    target_tensor = targetTensor(random_dino)\n",
    "    \n",
    "    try:\n",
    "        example_loss = training_loop_for_one_example(input_tensor, target_tensor)\n",
    "    except:\n",
    "        print(f'{iter} {random_dino}')\n",
    "        print(f'input tensor shape: {input_tensor.shape}')\n",
    "        print(f'target tensor shape: {target_tensor.shape}')\n",
    "        \n",
    "    total_loss += example_loss\n",
    "\n",
    "    if iter % print_every == 0:\n",
    "        print(f'{datetime.datetime.now()} on {iter}/{n_iters}, loss: {example_loss}')\n",
    "\n",
    "    if iter % plot_every == 0:\n",
    "        all_losses.append(total_loss / plot_every)\n",
    "        total_loss = 0"
   ]
  },
  {
   "cell_type": "code",
   "execution_count": 12,
   "id": "e4f75b73",
   "metadata": {},
   "outputs": [
    {
     "data": {
      "text/plain": [
       "[<matplotlib.lines.Line2D at 0x13188f730>]"
      ]
     },
     "execution_count": 12,
     "metadata": {},
     "output_type": "execute_result"
    },
    {
     "data": {
      "image/png": "[encoded data removed]",
      "text/plain": [
       "<Figure size 432x288 with 1 Axes>"
      ]
     },
     "metadata": {
      "needs_background": "light"
     },
     "output_type": "display_data"
    }
   ],
   "source": [
    "import matplotlib.pyplot as plt\n",
    "\n",
    "plt.figure()\n",
    "plt.plot(all_losses[1:])"
   ]
  },
  {
   "cell_type": "markdown",
   "id": "7510f31c",
   "metadata": {},
   "source": [
    "The above is not as small a loss as I was getting with the architecture specified in the pytorch tutorial. And it looks like it started overfitting around halfway through training. Also not sure why it starts tiny and jumps up. That's why I graphed only from element 1 onward.\n",
    "\n",
    "Needs improvement but saving what I have for now."
   ]
  },
  {
   "cell_type": "code",
   "execution_count": 13,
   "id": "2f161b1c",
   "metadata": {},
   "outputs": [],
   "source": [
    "torch.save(rnn, 'dino_rnn.pth')"
   ]
  },
  {
   "cell_type": "markdown",
   "id": "fabfe24f",
   "metadata": {},
   "source": [
    "# Generate"
   ]
  },
  {
   "cell_type": "markdown",
   "id": "6bdd0e8d",
   "metadata": {},
   "source": [
    "Now generate some dino names to see what kind of results we get. The model I used above needs to be seeded with a first letter so first I have to figure out how to choose first letter."
   ]
  },
  {
   "cell_type": "code",
   "execution_count": 21,
   "id": "17e7d012",
   "metadata": {},
   "outputs": [
    {
     "data": {
      "text/plain": [
       "a    0.108014\n",
       "s    0.095238\n",
       "p    0.077236\n",
       "c    0.067944\n",
       "t    0.062718\n",
       "m    0.059233\n",
       "l    0.052846\n",
       "d    0.052265\n",
       "b    0.049942\n",
       "h    0.040070\n",
       "g    0.038908\n",
       "e    0.038328\n",
       "n    0.034262\n",
       "k    0.029617\n",
       "o    0.027875\n",
       "r    0.024971\n",
       "i    0.019164\n",
       "y    0.018002\n",
       "j    0.016260\n",
       "z    0.016260\n",
       "v    0.015099\n",
       "f    0.014518\n",
       "u    0.011614\n",
       "w    0.011614\n",
       "x    0.011614\n",
       "q    0.006388\n",
       "dtype: float64"
      ]
     },
     "execution_count": 21,
     "metadata": {},
     "output_type": "execute_result"
    }
   ],
   "source": [
    "import pandas as pd\n",
    "first_letter_freq_dist = pd.Series(\n",
    "    [d[0] for d in dinos]).value_counts()/len(dinos)\n",
    "first_letter_freq_dist"
   ]
  },
  {
   "cell_type": "code",
   "execution_count": 24,
   "id": "faf1b1c0",
   "metadata": {},
   "outputs": [],
   "source": [
    "# save for inference later\n",
    "first_letter_freq_dist.to_csv(\n",
    "    'dino_first_letter_freq_dist.csv', header=False)"
   ]
  },
  {
   "cell_type": "code",
   "execution_count": 93,
   "id": "e3027db2",
   "metadata": {},
   "outputs": [],
   "source": [
    "# will also need this\n",
    "import json\n",
    "with open('dino_model_vocab.json','w') as f:\n",
    "    json.dump(vocab, f)"
   ]
  },
  {
   "cell_type": "code",
   "execution_count": 96,
   "id": "dee5fbf5",
   "metadata": {},
   "outputs": [],
   "source": [
    "with open('dino_first_letter_freq_dist.csv') as f:\n",
    "    first_letter, frequency = zip(*[\n",
    "        line.split(',') for line in f.read().split()\n",
    "    ])\n",
    "frequency = [float(f) for f in frequency]\n",
    "\n",
    "with open('dino_model_vocab.json') as f:\n",
    "    vocab = json.load(f)\n",
    "token_to_index = {v:k for k,v in enumerate(vocab)}\n",
    "index_to_token = {k:v for k,v in enumerate(vocab)}\n",
    "\n",
    "rnn = torch.load('dino_rnn.pth')"
   ]
  },
  {
   "cell_type": "code",
   "execution_count": 51,
   "id": "5519b683",
   "metadata": {},
   "outputs": [],
   "source": [
    "def letterTensor(letter):\n",
    "    onehot = np.zeros((1, len(vocab)))\n",
    "    index = token_to_index[letter]\n",
    "    onehot[0, index] = 1\n",
    "    return torch.from_numpy(np.expand_dims(onehot, axis=1)).float() # numpy default is float64 but torch wants float32"
   ]
  },
  {
   "cell_type": "code",
   "execution_count": 77,
   "id": "72800cbb",
   "metadata": {},
   "outputs": [],
   "source": [
    "import random\n",
    "def generate(maxlen=30):\n",
    "    # first generate first letter\n",
    "    x = random.choices(first_letter, weights=frequency, k=1)[0]\n",
    "    with torch.no_grad():\n",
    "        hidden = rnn.initHidden()\n",
    "        generated = ''\n",
    "\n",
    "        while x != '\\n':\n",
    "            # append this letter to the generated string\n",
    "            generated += x\n",
    "            # convert x to an input tensor\n",
    "            letter_tensor = letterTensor(x)\n",
    "            # generate logits and hidden\n",
    "            logits, hidden = rnn(letter_tensor[[0]], hidden)\n",
    "            # from the logits, compute probabilities\n",
    "            probs = nn.Softmax(dim=2)(logits).flatten()\n",
    "            # pull next letter from this probability distribution\n",
    "            x = random.choices(vocab, weights=probs, k=1)[0]\n",
    "    \n",
    "    return generated"
   ]
  },
  {
   "cell_type": "code",
   "execution_count": 89,
   "id": "295d9184",
   "metadata": {},
   "outputs": [
    {
     "name": "stdout",
     "output_type": "stream",
     "text": [
      "caosolaua\n",
      "mak\n",
      "trolepuinusxs\n",
      "sakaoauinuras\n",
      "rurionurenrenais\n"
     ]
    }
   ],
   "source": [
    "for _ in range(5):\n",
    "    print(generate())"
   ]
  },
  {
   "cell_type": "markdown",
   "id": "1843dc51",
   "metadata": {},
   "source": [
    "Wow that sucks so much. Needs improvement for sure! Will come back to this but I want to set up my widgets first..."
   ]
  }
 ],
 "metadata": {
  "kernelspec": {
   "display_name": "Python 3 (ipykernel)",
   "language": "python",
   "name": "python3"
  },
  "language_info": {
   "codemirror_mode": {
    "name": "ipython",
    "version": 3
   },
   "file_extension": ".py",
   "mimetype": "text/x-python",
   "name": "python",
   "nbconvert_exporter": "python",
   "pygments_lexer": "ipython3",
   "version": "3.8.5"
  }
 },
 "nbformat": 4,
 "nbformat_minor": 5
}
