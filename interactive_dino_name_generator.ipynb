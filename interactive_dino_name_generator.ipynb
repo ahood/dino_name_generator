{
 "cells": [
  {
   "cell_type": "code",
   "execution_count": 1,
   "id": "8d53f3e1",
   "metadata": {},
   "outputs": [],
   "source": [
    "# model and auxiliary stuff\n",
    "import torch\n",
    "import torch.nn as nn\n",
    "import numpy as np\n",
    "import json\n",
    "\n",
    "class MyModel(nn.Module):\n",
    "    def __init__(self, hidden_layer_size, vocab_size):\n",
    "        super(MyModel, self).__init__()\n",
    "        self.hidden_layer_size = hidden_layer_size\n",
    "        self.vocab_size = vocab_size\n",
    "        \n",
    "        self.gru = nn.GRU(input_size=vocab_size, hidden_size=hidden_layer_size)\n",
    "        self.h2logits = nn.Linear(hidden_layer_size, vocab_size)\n",
    "\n",
    "    def forward(self, x, h):\n",
    "        h, _ = self.gru(x, h)        \n",
    "        logits = self.h2logits(h)\n",
    "        return logits, h\n",
    "    \n",
    "    def initHidden(self):\n",
    "        return torch.zeros(1, self.hidden_layer_size)\n",
    "\n",
    "model = torch.load('dino_rnn.pth')\n",
    "with open('dino_model_vocab.json') as f:\n",
    "    vocab = json.load(f)\n",
    "chars_to_idx = {v:k for k,v in enumerate(vocab)}\n",
    "idx_to_chars = {k:v for k,v in enumerate(vocab)}\n",
    "n = 20\n",
    "\n",
    "def sample():\n",
    "    vocab_size = model.vocab_size\n",
    "    hidden_layer_size = model.hidden_layer_size\n",
    "    h_prev = model.initHidden()\n",
    "    x = torch.zeros(1, vocab_size)\n",
    "    \n",
    "    indices = []\n",
    "    idx = -1\n",
    "    counter = 0\n",
    "    while (counter <= n and idx != chars_to_idx['\\n']):\n",
    "        logits, h_prev = model.forward(x, h_prev)\n",
    "        probs = nn.Softmax(dim=1)(logits)\n",
    "        \n",
    "        # Sample the index of the character using generated probs distribution\n",
    "        idx = np.random.choice(vocab_size, p=probs.ravel().detach().numpy())\n",
    "\n",
    "        # Add the char to the sequence\n",
    "        indices.append(idx)\n",
    "        \n",
    "        # Update a_prev and x\n",
    "        x = torch.zeros(1, vocab_size)\n",
    "        x[0, idx] = 1\n",
    "        \n",
    "        counter += 1 \n",
    "        \n",
    "    sequence = \"\".join([idx_to_chars[idx] for idx in indices if idx != 0])\n",
    "    return sequence"
   ]
  },
  {
   "cell_type": "code",
   "execution_count": 4,
   "id": "d8b75a5f",
   "metadata": {},
   "outputs": [],
   "source": [
    "import ipywidgets as widgets\n",
    "from IPython.display import display\n",
    "button = widgets.Button(\n",
    "    description='Generate',\n",
    "    disabled=False,\n",
    "    button_style='', # 'success', 'info', 'warning', 'danger' or ''\n",
    "\n",
    ")\n",
    "out = widgets.Output()\n",
    "def onclick(change):\n",
    "    out.clear_output()\n",
    "    generated = sample()\n",
    "    with out:\n",
    "        display(generated.capitalize())\n",
    "\n",
    "button.on_click(onclick)"
   ]
  },
  {
   "cell_type": "code",
   "execution_count": 5,
   "id": "22b45199",
   "metadata": {},
   "outputs": [
    {
     "data": {
      "application/vnd.jupyter.widget-view+json": {
       "model_id": "0fc6f758367b476ebad1aef8e5953cb3",
       "version_major": 2,
       "version_minor": 0
      },
      "text/plain": [
       "VBox(children=(Label(value='Click to generate a unique dinosaur name!'), Button(description='Generate', style=…"
      ]
     },
     "metadata": {},
     "output_type": "display_data"
    }
   ],
   "source": [
    "widgets.VBox([\n",
    "    widgets.Label('Click to generate a unique dinosaur name!'),\n",
    "    button,\n",
    "    out\n",
    "])"
   ]
  },
  {
   "cell_type": "code",
   "execution_count": null,
   "id": "4c32cc1f",
   "metadata": {},
   "outputs": [],
   "source": []
  }
 ],
 "metadata": {
  "kernelspec": {
   "display_name": "Python 3 (ipykernel)",
   "language": "python",
   "name": "python3"
  },
  "language_info": {
   "codemirror_mode": {
    "name": "ipython",
    "version": 3
   },
   "file_extension": ".py",
   "mimetype": "text/x-python",
   "name": "python",
   "nbconvert_exporter": "python",
   "pygments_lexer": "ipython3",
   "version": "3.8.5"
  }
 },
 "nbformat": 4,
 "nbformat_minor": 5
}
