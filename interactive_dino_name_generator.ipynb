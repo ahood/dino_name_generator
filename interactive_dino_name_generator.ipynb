{
 "cells": [
  {
   "cell_type": "code",
   "execution_count": 1,
   "id": "8d53f3e1",
   "metadata": {},
   "outputs": [],
   "source": [
    "# model and auxiliary stuff\n",
    "import torch\n",
    "import torch.nn as nn\n",
    "import numpy as np\n",
    "import json\n",
    "from thefuzz import process\n",
    "\n",
    "class MyModel(nn.Module):\n",
    "    def __init__(self, hidden_layer_size, vocab_size):\n",
    "        super(MyModel, self).__init__()\n",
    "        self.hidden_layer_size = hidden_layer_size\n",
    "        self.vocab_size = vocab_size\n",
    "        \n",
    "        self.gru = nn.GRU(input_size=vocab_size, hidden_size=hidden_layer_size)\n",
    "        self.h2logits = nn.Linear(hidden_layer_size, vocab_size)\n",
    "\n",
    "    def forward(self, x, h):\n",
    "        h, _ = self.gru(x, h)        \n",
    "        logits = self.h2logits(h)\n",
    "        return logits, h\n",
    "    \n",
    "    def initHidden(self):\n",
    "        return torch.zeros(1, self.hidden_layer_size)\n",
    "\n",
    "model = torch.load('dino_rnn.pth')\n",
    "with open('dino_model_vocab.json') as f:\n",
    "    vocab = json.load(f)\n",
    "chars_to_idx = {v:k for k,v in enumerate(vocab)}\n",
    "idx_to_chars = {k:v for k,v in enumerate(vocab)}\n",
    "n = 20\n",
    "\n",
    "def sample():\n",
    "    vocab_size = model.vocab_size\n",
    "    hidden_layer_size = model.hidden_layer_size\n",
    "    h_prev = model.initHidden()\n",
    "    x = torch.zeros(1, vocab_size)\n",
    "    \n",
    "    indices = []\n",
    "    idx = -1\n",
    "    counter = 0\n",
    "    while (counter <= n and idx != chars_to_idx['\\n']):\n",
    "        logits, h_prev = model.forward(x, h_prev)\n",
    "        probs = nn.Softmax(dim=1)(logits)\n",
    "        \n",
    "        # Sample the index of the character using generated probs distribution\n",
    "        idx = np.random.choice(vocab_size, p=probs.ravel().detach().numpy())\n",
    "\n",
    "        # Add the char to the sequence\n",
    "        indices.append(idx)\n",
    "        \n",
    "        # Update a_prev and x\n",
    "        x = torch.zeros(1, vocab_size)\n",
    "        x[0, idx] = 1\n",
    "        \n",
    "        counter += 1 \n",
    "        \n",
    "    sequence = \"\".join([idx_to_chars[idx] for idx in indices if idx != 0])\n",
    "    return sequence"
   ]
  },
  {
   "cell_type": "code",
   "execution_count": 73,
   "id": "d8b75a5f",
   "metadata": {},
   "outputs": [],
   "source": [
    "import ipywidgets as widgets\n",
    "from IPython.display import display\n",
    "button = widgets.Button(\n",
    "    description='Generate',\n",
    "    disabled=False,\n",
    "    button_style='', # 'success', 'info', 'warning', 'danger' or ''\n",
    "\n",
    ")\n",
    "generated_output = widgets.Output()\n",
    "top5_closest_output = widgets.Output()\n",
    "\n",
    "with open('dino_names_scraped_from_wikipedia.txt') as f:\n",
    "    real_dino_names = f.read().split('\\n') # lowercase\n",
    "\n",
    "def onclick(change):\n",
    "    generated_output.clear_output()\n",
    "    top5_closest_output.clear_output()\n",
    "    generated = sample()\n",
    "    while generated in real_dino_names:\n",
    "        generated = sample()\n",
    "        \n",
    "    top5 = [x[0].capitalize() for x in process.extract(generated, real_dino_names, limit=5)]    \n",
    "        \n",
    "    with generated_output:\n",
    "        display(widgets.HTML(f'<h2>{generated.capitalize()}</h2>'))\n",
    "    with top5_closest_output:\n",
    "        display(widgets.HTML('<p>Top 5 closest real dinosaur names:</p>'))\n",
    "        for x in top5:\n",
    "            display(widgets.HTML(f'<li><a href=\"https://en.wikipedia.org/wiki/{x}\">{x}</a></li>'))\n",
    "\n",
    "button.on_click(onclick)"
   ]
  },
  {
   "cell_type": "code",
   "execution_count": 74,
   "id": "22b45199",
   "metadata": {},
   "outputs": [
    {
     "data": {
      "application/vnd.jupyter.widget-view+json": {
       "model_id": "03805e5da9a642a88b12c3bc843ec2d0",
       "version_major": 2,
       "version_minor": 0
      },
      "text/plain": [
       "VBox(children=(Label(value='Click to generate a unique dinosaur name!'), Button(description='Generate', style=…"
      ]
     },
     "metadata": {},
     "output_type": "display_data"
    }
   ],
   "source": [
    "widgets.VBox([\n",
    "    widgets.Label('Click to generate a unique dinosaur name!'),\n",
    "    button,\n",
    "    generated_output,\n",
    "    top5_closest_output\n",
    "])"
   ]
  },
  {
   "cell_type": "code",
   "execution_count": null,
   "id": "dc13f810",
   "metadata": {},
   "outputs": [],
   "source": []
  }
 ],
 "metadata": {
  "kernelspec": {
   "display_name": "Python 3 (ipykernel)",
   "language": "python",
   "name": "python3"
  },
  "language_info": {
   "codemirror_mode": {
    "name": "ipython",
    "version": 3
   },
   "file_extension": ".py",
   "mimetype": "text/x-python",
   "name": "python",
   "nbconvert_exporter": "python",
   "pygments_lexer": "ipython3",
   "version": "3.8.5"
  }
 },
 "nbformat": 4,
 "nbformat_minor": 5
}
